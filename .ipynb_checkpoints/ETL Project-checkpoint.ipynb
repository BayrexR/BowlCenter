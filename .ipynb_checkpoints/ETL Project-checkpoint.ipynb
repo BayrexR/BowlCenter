{
 "cells": [
  {
   "cell_type": "markdown",
   "metadata": {},
   "source": [
    "# ETL Project\n",
    "\n",
    "### Group Project by:\n",
    "\n",
    "##### Bay Rodriguez  /  Chris Tran  /  Emil Rodulfo  /  Tim Besaw"
   ]
  },
  {
   "cell_type": "code",
   "execution_count": null,
   "metadata": {},
   "outputs": [],
   "source": [
    "# Dependencies and Setup\n",
    "import pandas as pd\n",
    "from sqlalchemy import create_engine\n",
    "import sys\n",
    "\n",
    "sys.path.append(\"static/assets/Resources/\")\n",
    "import config"
   ]
  },
  {
   "cell_type": "markdown",
   "metadata": {},
   "source": [
    "## Extract Data"
   ]
  },
  {
   "cell_type": "code",
   "execution_count": null,
   "metadata": {},
   "outputs": [],
   "source": [
    "# Load and read game file\n",
    "game_file = 'static/assets/Resources/game_stats.csv'\n",
    "game_df = pd.read_csv(game_file, encoding='utf-8')\n",
    "\n",
    "# Minimize data to bowl games from 2007-2016 and filter down fields pertinent to analysis\n",
    "new_game_df = game_df.loc[game_df['Year'] >2006, :]\n",
    "new_game_df = new_game_df[['Year', 'Away Team', 'Home Team', 'Bowl', 'id', 'Home Bowl Scores', 'Away Bowl Scores', 'Winning Team', 'Losing Team']]\n",
    "\n",
    "new_game_df.head()"
   ]
  },
  {
   "cell_type": "code",
   "execution_count": null,
   "metadata": {},
   "outputs": [],
   "source": [
    "# Load and read player file\n",
    "player_file = 'static/assets/Resources/player_stats.csv'\n",
    "player_df = pd.read_csv(player_file, encoding='utf-8')\n",
    "\n",
    "# Filter data to fields pertinent to analysis\n",
    "new_player_df=player_df[['GameId','team','player']]\n",
    "\n",
    "new_player_df.head()"
   ]
  },
  {
   "cell_type": "markdown",
   "metadata": {},
   "source": [
    "## Transform Data"
   ]
  },
  {
   "cell_type": "code",
   "execution_count": null,
   "metadata": {},
   "outputs": [],
   "source": [
    "# Rename game dataframe columns to match database field names\n",
    "xform_game = new_game_df.rename(columns={'Year': 'year', 'Away Team': 'away_team', 'Home Team': 'home_team', 'Bowl': 'bowl', 'id': 'gameid', 'Home Bowl Scores': 'home_bowl_scores', 'Away Bowl Scores': 'away_bowl_scores', 'Winning Team': 'winning_team', 'Losing Team': 'losing_team'})\n",
    "\n",
    "# Set index\n",
    "xform_game.set_index('gameid', inplace=True)\n",
    "\n",
    "xform_game.head()"
   ]
  },
  {
   "cell_type": "code",
   "execution_count": null,
   "metadata": {},
   "outputs": [],
   "source": [
    "# Rename player dataframe columns to match database field names\n",
    "xform_player = new_player_df.rename(columns={'GameId':'gameid', 'team':'team', 'player':'player'})\n",
    "\n",
    "# Set index\n",
    "xform_player.set_index('gameid', inplace=True)\n",
    "\n",
    "xform_player.head()"
   ]
  },
  {
   "cell_type": "markdown",
   "metadata": {},
   "source": [
    "## Load Data"
   ]
  },
  {
   "cell_type": "code",
   "execution_count": null,
   "metadata": {},
   "outputs": [],
   "source": [
    "# Create database connection\n",
    "conn = (f'{config.username}:{config.password}@localhost/football_db')\n",
    "\n",
    "engine = create_engine(f'mysql://{conn}')"
   ]
  },
  {
   "cell_type": "code",
   "execution_count": null,
   "metadata": {},
   "outputs": [],
   "source": [
    "# Confirm tables\n",
    "engine.table_names()"
   ]
  },
  {
   "cell_type": "code",
   "execution_count": null,
   "metadata": {},
   "outputs": [],
   "source": [
    "# Load game dataframe to SQL database\n",
    "xform_game.to_sql(name='game_stats', con=engine, if_exists = 'append', index=True)"
   ]
  },
  {
   "cell_type": "code",
   "execution_count": null,
   "metadata": {},
   "outputs": [],
   "source": [
    "# Load players dataframe to SQL database\n",
    "xform_player.to_sql(name='player_stats', con=engine, if_exists = 'append', index=True)"
   ]
  },
  {
   "cell_type": "code",
   "execution_count": null,
   "metadata": {},
   "outputs": [],
   "source": []
  }
 ],
 "metadata": {
  "kernelspec": {
   "display_name": "Python 3",
   "language": "python",
   "name": "python3"
  },
  "language_info": {
   "codemirror_mode": {
    "name": "ipython",
    "version": 3
   },
   "file_extension": ".py",
   "mimetype": "text/x-python",
   "name": "python",
   "nbconvert_exporter": "python",
   "pygments_lexer": "ipython3",
   "version": "3.6.5"
  }
 },
 "nbformat": 4,
 "nbformat_minor": 2
}
